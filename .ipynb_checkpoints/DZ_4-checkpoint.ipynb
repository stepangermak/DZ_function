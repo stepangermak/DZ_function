{
 "cells": [
  {
   "cell_type": "code",
   "execution_count": 2,
   "metadata": {},
   "outputs": [],
   "source": [
    "documents = [\n",
    " {'type': 'passport', 'number': '2207 876234', 'name': 'Василий Гупкин'},\n",
    " {'type': 'invoice', 'number': '11-2', 'name': 'Геннадий Покемонов'},\n",
    " {'type': 'insurance', 'number': '10006', 'name': 'Аристарх Павлов'}\n",
    "]"
   ]
  },
  {
   "cell_type": "code",
   "execution_count": 3,
   "metadata": {},
   "outputs": [],
   "source": [
    "directories = {\n",
    " '1': ['2207 876234', '11-2'],\n",
    " '2': ['10006'],\n",
    " '3': []\n",
    "}"
   ]
  },
  {
   "cell_type": "markdown",
   "metadata": {},
   "source": [
    "Пункт 1. Пользователь по команде \"p\" может узнать владельца документа по его номеру"
   ]
  },
  {
   "cell_type": "code",
   "execution_count": 19,
   "metadata": {},
   "outputs": [],
   "source": [
    "def p():\n",
    "    doc_num = input (\"Введите номер документа: \")\n",
    "    for num in documents:\n",
    "        if num['number'] == doc_num:\n",
    "            return(f\"Владелец докуента: {num['name']}\")\n",
    "    return(f'Документ не найден в базе')\n",
    "#p()"
   ]
  },
  {
   "cell_type": "markdown",
   "metadata": {},
   "source": [
    "Пункт 2. Пользователь по команде \"s\" может по номеру документа узнать на какой полке он хранится"
   ]
  },
  {
   "cell_type": "code",
   "execution_count": 20,
   "metadata": {},
   "outputs": [],
   "source": [
    "def s():\n",
    "    doc_num = input(\"Введите номер документа: \")\n",
    "    for pol in directories:\n",
    "        if doc_num in directories[pol]:\n",
    "            return(f'Документ хранится на полке: {pol}')\n",
    "    return(f'Документ не найден в базе')\n",
    "\n",
    "#s()"
   ]
  },
  {
   "cell_type": "markdown",
   "metadata": {},
   "source": [
    "Пункт 3. Пользователь по команде \"l\" может увидеть полную информацию по всем документам"
   ]
  },
  {
   "cell_type": "code",
   "execution_count": 21,
   "metadata": {},
   "outputs": [],
   "source": [
    "def l():\n",
    "    for doc_num, doc in enumerate(documents):\n",
    "        type_1 = doc ['type']\n",
    "        number = doc ['number']\n",
    "        name = doc ['name']\n",
    "        for key, values in directories.items():\n",
    "            if doc['number'] in values:\n",
    "                shelf = key     \n",
    "        print (f'№ {number}, тип: {type_1}, владелец: {name}, полка хранения: {shelf}')\n",
    "#l()"
   ]
  },
  {
   "cell_type": "markdown",
   "metadata": {},
   "source": [
    "Пункт 4. Пользователь по команде “ads” может добавить новую полку"
   ]
  },
  {
   "cell_type": "code",
   "execution_count": 22,
   "metadata": {},
   "outputs": [],
   "source": [
    "def ads():\n",
    "    shelf = input(\"Введите номер полки: \")\n",
    "    for num, value in directories.items():\n",
    "        if shelf in num[0]:\n",
    "            print(f\"Такая полка уже существует. Текущий перечень полок: {', '.join(list(directories.keys()))}\")\n",
    "            break\n",
    "    else:\n",
    "        directories[shelf] = []\n",
    "        print(f\"Полка добавлена. Текущий перечень полок: {', '.join(list(directories.keys()))}\")\n",
    "#ads()"
   ]
  },
  {
   "cell_type": "markdown",
   "metadata": {},
   "source": [
    "Пункт 5. Пользователь по команде “ds” может удалить существующую полку из данных (только если она пустая)"
   ]
  },
  {
   "cell_type": "code",
   "execution_count": 25,
   "metadata": {},
   "outputs": [],
   "source": [
    "def ds():        \n",
    "    shell_num = input(\"Введите номер полки: \")\n",
    "    if shell_num in directories.keys() and len(directories[shell_num]) == 0:\n",
    "        del(directories[shell_num])\n",
    "        print(f\"Полка уделена. Текущий перечень полок: {', '.join(list(directories.keys()))}\")\n",
    "    elif shell_num in  directories.keys() and len(directories[shell_num]) != 0:\n",
    "        print (f\"На полке есть документы, удалите их перед уделением полки. Текущий перечень полок: {', '.join(list(directories.keys()))}\")\n",
    "    elif shell_num not in directories.keys():\n",
    "        print(f\"Такой полки не существует. Текущий перечень полок: {', '.join(list(directories.keys()))}\")\n",
    "#ds()"
   ]
  },
  {
   "cell_type": "markdown",
   "metadata": {},
   "source": [
    "Вам нужно помочь секретарю автоматизировать работу. Для этого нужно написать программу, которая будет на основе хранимых данных исполнять пользовательские команды."
   ]
  },
  {
   "cell_type": "code",
   "execution_count": 27,
   "metadata": {},
   "outputs": [
    {
     "name": "stdout",
     "output_type": "stream",
     "text": [
      "Введите команду: l\n",
      "№ 2207 876234, тип: passport, владелец: Василий Гупкин, полка хранения: 1\n",
      "№ 11-2, тип: invoice, владелец: Геннадий Покемонов, полка хранения: 1\n",
      "№ 10006, тип: insurance, владелец: Аристарх Павлов, полка хранения: 2\n",
      "None\n",
      "\n",
      "Введите команду: p\n",
      "Введите номер документа: 10006\n",
      "Владелец докуента: Аристарх Павлов\n",
      "\n",
      "Введите команду: s\n",
      "Введите номер документа: 10006\n",
      "Документ хранится на полке: 2\n",
      "\n",
      "Введите команду: l\n",
      "№ 2207 876234, тип: passport, владелец: Василий Гупкин, полка хранения: 1\n",
      "№ 11-2, тип: invoice, владелец: Геннадий Покемонов, полка хранения: 1\n",
      "№ 10006, тип: insurance, владелец: Аристарх Павлов, полка хранения: 2\n",
      "None\n",
      "\n",
      "Введите команду: ads\n",
      "Введите номер полки: 3\n",
      "Такая полка уже существует. Текущий перечень полок: 1, 2, 3\n",
      "None\n",
      "\n",
      "Введите команду: ads\n",
      "Введите номер полки: 4\n",
      "Полка добавлена. Текущий перечень полок: 1, 2, 3, 4\n",
      "None\n",
      "\n",
      "Введите команду: ds\n",
      "Введите номер полки: 1\n",
      " На полке есть документы, удалите их перед уделением полки. Текущий перечень полок: 1, 2, 3, 4\n",
      "None\n",
      "\n",
      "Введите команду: 4\n",
      "\n",
      "Введите команду: ds\n",
      "Введите номер полки: 4\n",
      " Полка уделена. Текущий перечень полок: 1, 2, 3\n",
      "None\n",
      "\n",
      "Введите команду: q\n"
     ]
    },
    {
     "data": {
      "text/plain": [
       "'До свидания'"
      ]
     },
     "execution_count": 27,
     "metadata": {},
     "output_type": "execute_result"
    }
   ],
   "source": [
    "def main():\n",
    "    while True:\n",
    "        command = input(\"Введите команду: \")\n",
    "        if command == 'p':\n",
    "            print(p())\n",
    "        elif command == 's':\n",
    "            print(s())\n",
    "        elif command == 'l':\n",
    "            print(l())\n",
    "        elif command == 'ads':\n",
    "            print(ads())\n",
    "        elif command == 'ds':\n",
    "            print(ds())\n",
    "        elif command == 'q':\n",
    "            return(\"До свидания\")\n",
    "            break\n",
    "        print()\n",
    "main()"
   ]
  }
 ],
 "metadata": {
  "kernelspec": {
   "display_name": "Python 3",
   "language": "python",
   "name": "python3"
  },
  "language_info": {
   "codemirror_mode": {
    "name": "ipython",
    "version": 3
   },
   "file_extension": ".py",
   "mimetype": "text/x-python",
   "name": "python",
   "nbconvert_exporter": "python",
   "pygments_lexer": "ipython3",
   "version": "3.8.3"
  }
 },
 "nbformat": 4,
 "nbformat_minor": 4
}
